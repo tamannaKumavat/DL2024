{
  "cells": [
    {
      "cell_type": "markdown",
      "metadata": {
        "id": "AqnEKnjabiAD"
      },
      "source": [
        "# Assignment 7: Transfer Learning\n",
        "\n",
        "\n",
        "The goal of this exercise is to learn how to use pre-trained networks in transfer learning tasks.\n",
        "We will make use of networks trained on ImageNet, and apply them to related problems, i.e., the classification of $6$ categories such as buildings, forests, glaciers, mountains, seas, and streets."
      ]
    },
    {
      "cell_type": "markdown",
      "metadata": {
        "id": "t_f8IeaIbiAF"
      },
      "source": [
        "## Dataset\n",
        "\n",
        "For this exercise we use the  [Intel Image Classification](https://www.kaggle.com/datasets/puneet6060/intel-image-classification) dataset that can be downloaded from the official website [here]({https://www.kaggle.com/datasets/puneet6060/intel-image-classification}).\n",
        "The dataset contains $25000$ color images of pixels size $150\\times 150$ in $6$ classes: buildings, forests, glaciers, mountains, seas, and streets. We will be using only $17000$ of those images where $14000$ are for training and $3000$ for test."
      ]
    },
    {
      "cell_type": "markdown",
      "metadata": {
        "id": "q_XCyT3dbiAF"
      },
      "source": [
        "### Test 0: Download and check if dataset is downloaded correctly"
      ]
    },
    {
      "cell_type": "markdown",
      "metadata": {
        "id": "jwceJtIfbiAF"
      },
      "source": [
        "#### Download the dataset by running the code below"
      ]
    },
    {
      "cell_type": "code",
      "execution_count": 1,
      "metadata": {
        "id": "W6JlVIaCbiAF"
      },
      "outputs": [],
      "source": [
        "#Library for downloading datasets from Kaggle\n",
        "! pip install opendatasets --upgrade --quiet"
      ]
    },
    {
      "cell_type": "code",
      "execution_count": 2,
      "metadata": {
        "colab": {
          "base_uri": "https://localhost:8080/"
        },
        "id": "bqql07ivbiAG",
        "outputId": "7d81d4cc-2493-474f-c7ff-f01ce7dadecf"
      },
      "outputs": [
        {
          "output_type": "stream",
          "name": "stdout",
          "text": [
            "Skipping, found downloaded files in \"./intel-image-classification\" (use force=True to force download)\n"
          ]
        }
      ],
      "source": [
        "import json\n",
        "\n",
        "# Write kaggle.json file\n",
        "with open('kaggle.json', 'w') as file:\n",
        "    json.dump({'username': '', 'key': ''}, file)\n",
        "\n",
        "import opendatasets\n",
        "opendatasets.download('https://www.kaggle.com/puneet6060/intel-image-classification')"
      ]
    },
    {
      "cell_type": "markdown",
      "metadata": {
        "id": "sjWj6JK3biAG"
      },
      "source": [
        "After running the cell above, just verify that the dataset has been downloaded correctly by running the cell below."
      ]
    },
    {
      "cell_type": "code",
      "execution_count": 3,
      "metadata": {
        "colab": {
          "base_uri": "https://localhost:8080/"
        },
        "id": "WXgo2tFxbiAG",
        "outputId": "ccb5bafe-a8ef-4466-fb29-94362a5592f0"
      },
      "outputs": [
        {
          "output_type": "stream",
          "name": "stdout",
          "text": [
            "Dataset is validated successfully. Test Passed\n"
          ]
        }
      ],
      "source": [
        "import os\n",
        "\n",
        "def count_images(directory):\n",
        "    \"\"\"Count the number of image files in the given directory and its subdirectories.\"\"\"\n",
        "    count = 0\n",
        "    for root, dirs, files in os.walk(directory):\n",
        "        count += sum(1 for file in files if file.endswith(('.jpg', '.jpeg', '.png')))\n",
        "    return count\n",
        "\n",
        "def validate_dataset(base_path):\n",
        "    \"\"\"Validate the structure and the count of images in the dataset.\"\"\"\n",
        "    expected_structure = {\n",
        "        'seg_train': 14034,\n",
        "        'seg_test': 3000\n",
        "    }\n",
        "\n",
        "    errors = []\n",
        "\n",
        "    # Check if base directory exists\n",
        "    if not os.path.exists(base_path):\n",
        "        errors.append(f\"Base directory {base_path} does not exist.\")\n",
        "        return errors\n",
        "\n",
        "    # Check each subdirectory and count images\n",
        "    for folder, expected_count in expected_structure.items():\n",
        "        folder_path = os.path.join(base_path, folder)\n",
        "        if not os.path.exists(folder_path):\n",
        "            errors.append(f\"Expected folder {folder_path} does not exist.\")\n",
        "        else:\n",
        "            image_count = count_images(folder_path)\n",
        "            if image_count != expected_count:\n",
        "                errors.append(f\"Folder {folder} has {image_count} images, expected {expected_count}.\")\n",
        "\n",
        "    return errors\n",
        "\n",
        "# Specify the path to the base of the dataset\n",
        "base_dataset_path = \"intel-image-classification/\" #Change if you downloaded manually to some other path\n",
        "\n",
        "# Perform the validation\n",
        "validation_errors = validate_dataset(base_dataset_path)\n",
        "\n",
        "if not validation_errors:\n",
        "    print(\"Dataset is validated successfully. Test Passed\")\n",
        "else:\n",
        "    print(\"Errors found in dataset validation:\")\n",
        "    for error in validation_errors:\n",
        "        print(error)"
      ]
    },
    {
      "cell_type": "markdown",
      "metadata": {
        "id": "c49Kc8_YbiAG"
      },
      "source": [
        "### Task 1: Data Transformation\n",
        "\n",
        "We need to instantiate a proper `torchvision.transform` instance to create the same input structure as used for training our network.\n",
        "We need to combine 4 transforms. The different transforms in Pytorch are available here: https://pytorch.org/vision/0.9/transforms.html.\n",
        "\n",
        "1. We need to resize the image such that the shorter side has size 256.\n",
        "2. We need to take the center crop of size $224\\times224$ from the image.\n",
        "3. We need to convert the image into a tensor (including pixel values scaling)\n",
        "4. We need to normalize the pixel values with mean $(0.485, 0.456, 0.406)$ and standard deviation $(0.229, 0.224, 0.225)$.\n",
        "\n",
        "Since we will use networks pre-trained on ImageNet, we need to perform the exact same transform as used for ImageNet testing."
      ]
    },
    {
      "cell_type": "code",
      "execution_count": 4,
      "metadata": {
        "id": "Wvb4T80BbiAH"
      },
      "outputs": [],
      "source": [
        "import torch\n",
        "import torchvision\n",
        "\n",
        "imagenet_transform = torchvision.transforms.Compose([\n",
        "    torchvision.transforms.Resize(256),\n",
        "    torchvision.transforms.CenterCrop(224),\n",
        "    torchvision.transforms.ToTensor(),\n",
        "    torchvision.transforms.Normalize((0.485, 0.456, 0.406), (0.229, 0.224, 0.225)),\n",
        "                                                        ])"
      ]
    },
    {
      "cell_type": "markdown",
      "metadata": {
        "id": "ei5RPp2ZbiAH"
      },
      "source": [
        "### Task 2: Dataset Loading\n",
        "\n",
        "We here use the [ImageFolder](https://pytorch.org/vision/main/generated/torchvision.datasets.ImageFolder.html) class from pytorch to load our training and test set respectively.\n",
        "\n",
        "This task consists of two parts:\n",
        "\n",
        "1. Create two datasets, one for the training set, one for the test set. Use the transform defined above.\n",
        "2. Once the datasets are created, create two data loaders, one for training set, one for test set. Use a proper value of the batch-size $B = 256$. Make sure the trainloader shuffle is set to True."
      ]
    },
    {
      "cell_type": "code",
      "execution_count": 5,
      "metadata": {
        "id": "FrLi8wA1biAH"
      },
      "outputs": [],
      "source": [
        "from torchvision.datasets import ImageFolder\n",
        "\n",
        "#Path to your training and test data (If different, change the path accordingly)\n",
        "train_dir = './intel-image-classification/seg_train/seg_train/'\n",
        "test_dir = './intel-image-classification/seg_test/seg_test/'\n",
        "\n",
        "trainset = ImageFolder(\n",
        "  root=train_dir, transform=imagenet_transform\n",
        ")\n",
        "\n",
        "testset = ImageFolder(\n",
        "  root=test_dir, transform=imagenet_transform\n",
        ")"
      ]
    },
    {
      "cell_type": "code",
      "execution_count": 6,
      "metadata": {
        "id": "GGvvlTlGbiAH"
      },
      "outputs": [],
      "source": [
        "B = 128\n",
        "trainloader = torch.utils.data.DataLoader(dataset=trainset, batch_size=B,shuffle=True )\n",
        "testloader = torch.utils.data.DataLoader(dataset=testset, batch_size= B, shuffle=False)"
      ]
    },
    {
      "cell_type": "markdown",
      "metadata": {
        "id": "sDYfWcM-biAH"
      },
      "source": [
        "### Test 1: Data Size and Types\n",
        "\n",
        "We check that all input images are `torch.tensors` of size $3\\times224\\times224$ and of type `torch.float` and that all labels are of type `int`.\n",
        "\n",
        "Note: the sanity check is only performed on the test set."
      ]
    },
    {
      "cell_type": "code",
      "execution_count": 7,
      "metadata": {
        "id": "m274P0d9biAH"
      },
      "outputs": [],
      "source": [
        "for x, t in testset:\n",
        "  assert isinstance(x, torch.Tensor)\n",
        "  assert isinstance(t, int)\n",
        "  assert x.shape==(3,224,224)\n",
        "  assert x.dtype==torch.float\n",
        "  assert x.max() < 3.0\n",
        "  assert x.min() > -3.0"
      ]
    },
    {
      "cell_type": "markdown",
      "metadata": {
        "id": "hFtzk3iPbiAH"
      },
      "source": [
        "## Deep Feature Extraction\n",
        "\n",
        "We will use a pre-trained network available in `PyTorch`.\n",
        "Particularly, we will use a ResNet-50 architecture, but other architectures can also be tested.\n",
        "Fortunately, PyTorch provides simple interfaces to obtain pre-trained models, e.g., using the `torchvision.models.resnet50` interface function.\n",
        "\n",
        "In order to use the networks in a different dataset, we need to change their outputs.\n",
        "There are several possibilities on how to achieve that, and you have the freedom to choose.\n",
        "\n",
        "For your reference, the implementation of the `forward` function of ResNet networks (including ResNet-50) can be found here: https://github.com/pytorch/vision/blob/main/torchvision/models/resnet.py#L266\n",
        "\n",
        "You can also check if other networks perform better, for example, deeper ResNet topologies.\n",
        "Be aware that the strategy to replace the last fully-connected layer might not work the same way in other network topologies, only in residual networks."
      ]
    },
    {
      "cell_type": "markdown",
      "metadata": {
        "id": "Jaqma7ikbiAI"
      },
      "source": [
        "### Task 3: Pre-trained Network Instantiation\n",
        "\n",
        "Instantiate two pre-trained networks of type ResNet-50.\n",
        "\n",
        "1. Freeze the feature layers of the first network.\n",
        "\n",
        "Note: Make use the `old TorchVision Interface` to load your pre-trained network. Here is the link: https://pytorch.org/vision/0.12/models.html"
      ]
    },
    {
      "cell_type": "code",
      "execution_count": 8,
      "metadata": {
        "id": "ncbYEXXebiAI"
      },
      "outputs": [],
      "source": [
        "# instantiate the first pre-trained resnet 50 network\n",
        "network_1 = torchvision.models.resnet50(weights=\"DEFAULT\")\n",
        "# Make sure to freeze all the layers of the network.\n",
        "network_1.requires_grad_(False)\n",
        "\n",
        "# instantiate the second pre-trained resnet 50 network (optinally) without the freezing\n",
        "network_2 = torchvision.models.resnet50(weights=\"DEFAULT\")"
      ]
    },
    {
      "cell_type": "markdown",
      "metadata": {
        "id": "5Fs1wPqcbiAI"
      },
      "source": [
        "### Task 4: Network Implementation\n",
        "\n",
        "We want to modify the network such that we extract the logits for the 6 classes from the last fully-connected layer of the network.\n",
        "\n",
        "Implement a function that:\n",
        "1. Replaces the current last linear layer of the pre-trained network with a new linear layer that has $O$ units ($O$ represents the number of classes in our dataset)."
      ]
    },
    {
      "cell_type": "code",
      "execution_count": 9,
      "metadata": {
        "id": "8vp5qtW9biAI"
      },
      "outputs": [],
      "source": [
        "def replace_last_layer(network, O=6):\n",
        "  # replace the last linear layer with the new layer\n",
        "  num_ftrs = network.fc.in_features\n",
        "  network.fc = torch.nn.Linear(num_ftrs, O)\n",
        "  return network"
      ]
    },
    {
      "cell_type": "markdown",
      "metadata": {
        "id": "HvD69YkibiAI"
      },
      "source": [
        "### Test 2: Last layer dimensions\n",
        "\n",
        "This test ensures that the function return a network having the correct number of input and output units in the last layer."
      ]
    },
    {
      "cell_type": "code",
      "execution_count": 10,
      "metadata": {
        "id": "uPtM-1PVbiAI"
      },
      "outputs": [],
      "source": [
        "O = 6\n",
        "for network in (network_1, network_2):\n",
        "    new_model = replace_last_layer(network, O=O)\n",
        "    assert new_model.fc.out_features == O\n",
        "    assert new_model.fc.in_features == 2048"
      ]
    },
    {
      "cell_type": "markdown",
      "metadata": {
        "id": "CSGSXkHobiAI"
      },
      "source": [
        "## Network Training\n",
        "Implement a function that takes all necessary parameters to run a training on a given dataset.\n",
        "Select the optimizer to be `torch.optim.SGD` and `torch.nn.CrossEntropyLoss` as the loss function.\n",
        "The test set will be used as the validation set."
      ]
    },
    {
      "cell_type": "markdown",
      "metadata": {
        "id": "tFhwJcSubiAI"
      },
      "source": [
        "### Task 5: Training and Evaluation Loop\n",
        "\n",
        "Implement a training loop over a specific number of epochs (5) with a learning rate of $\\eta=0.001$ and momentum of $\\mu = 0.9$. The function should return the predictions and the labels on the validation set after 5 epochs.\n",
        "\n",
        "In each loop, compute and print the training loss, training accuracy, validation loss and validation accuracy.\n",
        "\n",
        "Make sure that you train on the training data only, and `not` on the validation data."
      ]
    },
    {
      "cell_type": "code",
      "execution_count": 11,
      "metadata": {
        "id": "7bRQQaK1biAI"
      },
      "outputs": [],
      "source": [
        "def train_eval(network, epochs=5, eta=0.001, momentum=0.9):\n",
        "    optimizer = torch.optim.SGD(params=network.parameters(), lr=eta, momentum=momentum)\n",
        "    loss = torch.nn.CrossEntropyLoss()\n",
        "\n",
        "    # instantiate the correct device\n",
        "    device = torch.device(\"cuda\")\n",
        "    network = network.to(device)\n",
        "\n",
        "    for epoch in range(epochs):\n",
        "        train_loss = 0\n",
        "        train_acc =0\n",
        "        val_acc= 0\n",
        "        val_loss = 0\n",
        "\n",
        "        # training process\n",
        "        for x,t in trainloader:\n",
        "           x = x.to(device)\n",
        "           t = t.to(device)\n",
        "           optimizer.zero_grad()\n",
        "           z = network(x)\n",
        "           j = loss(z,t)\n",
        "           j.backward()\n",
        "           optimizer.step()\n",
        "           train_loss+=j.item()* x.size(0)\n",
        "           train_acc+= torch.sum(torch.argmax(z, dim=1) == t).item()\n",
        "\n",
        "        network.eval()  # Set the network to evaluation mode\n",
        "\n",
        "        # testing process\n",
        "        with torch.no_grad():\n",
        "          for x,t in testloader:\n",
        "            x = x.to(device)\n",
        "            t = t.to(device)\n",
        "            z = network(x)\n",
        "            j = loss(z,t)\n",
        "            val_loss+= j.item()* x.size(0)\n",
        "            val_acc+=torch.sum(torch.argmax(z, dim=1) == t).item()\n",
        "\n",
        "\n",
        "        # Calculate and print accuracies and losses for current epoch\n",
        "        print(\"train loss \", train_loss/len(trainset))\n",
        "        print(\"train accuracy \", train_acc/len(trainset))\n",
        "        print(\"test loss \", val_loss/len(testset))\n",
        "        print(\"test accuracy \", val_acc/len(testset))\n",
        "\n",
        "    # Save predictions and target labels of the test set after the last epoch\n",
        "    pred, target = [], [] #Store only the test results\n",
        "    with torch.no_grad():\n",
        "      for x,t in testloader:\n",
        "            x = x.to(device)\n",
        "            t = t.to(device)\n",
        "            z = network(x)\n",
        "            pred.append(z)\n",
        "            target.append(t)\n",
        "    # Flatten the lists\n",
        "    pred = torch.cat(pred).cpu().numpy()\n",
        "    target = torch.cat(target).cpu().numpy()\n",
        "\n",
        "    return pred, target"
      ]
    },
    {
      "cell_type": "markdown",
      "metadata": {
        "id": "B5XR5hzXbiAI"
      },
      "source": [
        "### Task 6: Network Fine-Tuning with Frozen Layers\n",
        "\n",
        "Create a network that has feature layers frozen with $6$ output units.\n",
        "Fine-tune the created network on our Intel Image Classification data using the previous function."
      ]
    },
    {
      "cell_type": "code",
      "execution_count": 12,
      "metadata": {
        "id": "g2gNQOWXbiAI",
        "colab": {
          "base_uri": "https://localhost:8080/"
        },
        "outputId": "6edbec9c-a3e3-4b38-e12c-1dc72aaf75eb"
      },
      "outputs": [
        {
          "output_type": "stream",
          "name": "stdout",
          "text": [
            "train loss  1.2005534640265034\n",
            "train accuracy  0.7279464158472282\n",
            "test loss  0.823813728014628\n",
            "test accuracy  0.8553333333333333\n",
            "train loss  0.6782976036671816\n",
            "train accuracy  0.8718113153769417\n",
            "test loss  0.5982291797002156\n",
            "test accuracy  0.8696666666666667\n",
            "train loss  0.5335880189569177\n",
            "train accuracy  0.8800769559640872\n",
            "test loss  0.506326055765152\n",
            "test accuracy  0.8783333333333333\n",
            "train loss  0.46504456764258295\n",
            "train accuracy  0.8857773977483255\n",
            "test loss  0.45562326939900716\n",
            "test accuracy  0.8836666666666667\n",
            "train loss  0.42409026849570564\n",
            "train accuracy  0.8916203505771697\n",
            "test loss  0.42282513387997944\n",
            "test accuracy  0.887\n"
          ]
        }
      ],
      "source": [
        "network_with_frozen_layers = network_1\n",
        "pred_frozen, targ_frozen = train_eval(network_with_frozen_layers)"
      ]
    },
    {
      "cell_type": "markdown",
      "metadata": {
        "id": "cvtP6yVcbiAI"
      },
      "source": [
        "### Task 7: Network Fine-Tuning without Frozen Layers\n",
        "\n",
        "Create a network from the second pre-trained network with $6$ output units. This network should not have the layers frozen.\n",
        "Fine-tune the created network on our dataset.\n",
        "\n",
        "Note:\n",
        "\n",
        "  * The fine-tuning of the network can take a long time (> 30 minutes) when the layers are not frozen."
      ]
    },
    {
      "cell_type": "code",
      "execution_count": 13,
      "metadata": {
        "id": "G9H7UtSZbiAI",
        "colab": {
          "base_uri": "https://localhost:8080/"
        },
        "outputId": "8dea4993-c1a9-48d7-d3b9-6a47fec31016"
      },
      "outputs": [
        {
          "output_type": "stream",
          "name": "stdout",
          "text": [
            "train loss  1.0584527716280576\n",
            "train accuracy  0.7112726236283312\n",
            "test loss  0.508122518936793\n",
            "test accuracy  0.8756666666666667\n",
            "train loss  0.27366842755704623\n",
            "train accuracy  0.9078666096622489\n",
            "test loss  0.22850647219022116\n",
            "test accuracy  0.9133333333333333\n",
            "train loss  0.18963752310466644\n",
            "train accuracy  0.9325210203790794\n",
            "test loss  0.2064566955367724\n",
            "test accuracy  0.923\n",
            "train loss  0.16318048749984934\n",
            "train accuracy  0.9415704717115576\n",
            "test loss  0.2021697159409523\n",
            "test accuracy  0.9293333333333333\n",
            "train loss  0.1338769027843033\n",
            "train accuracy  0.9524013111016104\n",
            "test loss  0.20165885997811953\n",
            "test accuracy  0.926\n"
          ]
        }
      ],
      "source": [
        "network_normal = network_2 # Use network_2 defined above and replace the last layer\n",
        "pred_unfrozen, targ_frozen = train_eval(network_normal)"
      ]
    },
    {
      "cell_type": "markdown",
      "metadata": {
        "id": "SryJheQ3biAJ"
      },
      "source": [
        "## Plotting\n",
        "\n",
        "Finally, we want to plot the confusion matrix of the test set.\n",
        "For this, we need use the predictions and target values we saved from the previous tasks (Task 6 and Task 7).\n",
        "Finally, we can make use of the `sklearn.metrics.confusion_matrix` to compute the confusion matrix.\n",
        "You can utilize `sklearn.metrics.ConfusionMatrixDisplay` for displaying the confusion matrix, or `pyplot.imshow` and adding the according labels.\n",
        "\n",
        "Note:\n",
        "\n",
        "  * The documentation for the confusion matrix can be found here: https://scikit-learn.org/stable/modules/generated/sklearn.metrics.confusion_matrix.html\n",
        "  * The interface and an example for the `ConfusionMatrixDisplay` can be found here: https://scikit-learn.org/stable/modules/generated/sklearn.metrics.ConfusionMatrixDisplay.html"
      ]
    },
    {
      "cell_type": "markdown",
      "metadata": {
        "id": "ya_DaDVnbiAJ"
      },
      "source": [
        "### Task 8: Confusion Matrix Plotting\n",
        "\n",
        "* Plot the confusion matrix for the fine-tuned network with frozen layers.\n",
        "* Also plot the confusion matrix for the second fine-tuned network without frozen layers.\n",
        "* Compare the two"
      ]
    },
    {
      "cell_type": "code",
      "execution_count": 18,
      "metadata": {
        "id": "ZR5HUrMkbiAJ",
        "colab": {
          "base_uri": "https://localhost:8080/",
          "height": 502
        },
        "outputId": "990bfb52-f1f4-4654-f928-daf7de12a1de"
      },
      "outputs": [
        {
          "output_type": "display_data",
          "data": {
            "text/plain": [
              "<Figure size 640x480 with 2 Axes>"
            ],
            "image/png": "[encoded data removed]"
          },
          "metadata": {}
        }
      ],
      "source": [
        "from sklearn.metrics import confusion_matrix, ConfusionMatrixDisplay\n",
        "import matplotlib.pyplot as plt\n",
        "import numpy as np\n",
        "\n",
        "# add axis labels if required\n",
        "classes = trainset.classes\n",
        "\n",
        "# print(targ_frozen[0].cpu().numpy())\n",
        "# print(torch.argmax(pred_frozen[0], dim=1).cpu().numpy())\n",
        "\n",
        "# compute confusion matrix\n",
        "matrix_frozen = confusion_matrix(targ_frozen, np.argmax(pred_frozen, axis=1)) # Use predictions and target from the fine-tuned network with frozen layers\n",
        "matrix_unfrozen = confusion_matrix(targ_frozen, np.argmax(pred_unfrozen, axis=1)) # Use predictions and target from the fine-tuned network without frozen layers\n",
        "\n",
        "# plot confusion matrices\n",
        "plot_conf_matrix1 = ConfusionMatrixDisplay(confusion_matrix=matrix_frozen, display_labels=classes)\n",
        "plot_conf_matrix1.plot(xticks_rotation = \"vertical\")\n",
        "plt.show()"
      ]
    },
    {
      "cell_type": "code",
      "execution_count": 19,
      "metadata": {
        "id": "2GbtIrXhbiAJ",
        "colab": {
          "base_uri": "https://localhost:8080/",
          "height": 504
        },
        "outputId": "0f4ec7a6-88d1-4076-df13-43e1fe5334c6"
      },
      "outputs": [
        {
          "output_type": "display_data",
          "data": {
            "text/plain": [
              "<Figure size 640x480 with 2 Axes>"
            ],
            "image/png": "[encoded data removed]"
          },
          "metadata": {}
        }
      ],
      "source": [
        "plot_conf_matrix2 = ConfusionMatrixDisplay(confusion_matrix=matrix_unfrozen, display_labels=classes)\n",
        "plot_conf_matrix2.plot(xticks_rotation = \"vertical\")\n",
        "plt.show()"
      ]
    }
  ],
  "metadata": {
    "interpreter": {
      "hash": "2dd53f8ad749bca69f7250ce75eb4f0def59db5cf79075a9716322ffc58e8a2e"
    },
    "kernelspec": {
      "display_name": "Python 3",
      "name": "python3"
    },
    "language_info": {
      "codemirror_mode": {
        "name": "ipython",
        "version": 3
      },
      "file_extension": ".py",
      "mimetype": "text/x-python",
      "name": "python",
      "nbconvert_exporter": "python",
      "pygments_lexer": "ipython3",
      "version": "3.8.13"
    },
    "orig_nbformat": 4,
    "colab": {
      "provenance": [],
      "gpuType": "T4"
    },
    "accelerator": "GPU"
  },
  "nbformat": 4,
  "nbformat_minor": 0
}