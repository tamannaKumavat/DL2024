{
  "cells": [
    {
      "cell_type": "markdown",
      "metadata": {
        "id": "wptrfX7k71mt"
      },
      "source": [
        "### Group Members:\n",
        "\n",
        "- Name, matriculation number\n",
        "- Name, matriculation number\n",
        "- Name, matriculation number"
      ]
    },
    {
      "cell_type": "markdown",
      "metadata": {
        "id": "QZLeSPPP71mv"
      },
      "source": [
        "# Assignment 5: Classification in PyTorch\n",
        "\n",
        "\n",
        "For this exercise, we will switch to an implementation in PyTorch.\n",
        "The goal of this exercise is to get used to some concepts in PyTorch, such as relying on the `torch.tensor` data structure, implementing the network, the loss functions, the training loop and accuracy computation, which we will apply to binary and categorical classification.\n",
        "\n",
        "Please make sure that all your variables are compatible with `torch`.\n",
        "For example, you cannot mix `torch.tensor`s and `numpy.ndarray`s in any part of the code.\n",
        "\n",
        "## Dataset\n",
        "\n",
        "We will use two different datasets, the *churn* dataset https://archive.ics.uci.edu/dataset/563/iranian+churn+dataset for binary classification and the *winequality-red* dataset https://archive.ics.uci.edu/dataset/186/wine+quality for categorical classification. Both datasets are avaliable on the UCI Machine Learning repository.\n",
        "\n",
        "The binary classification dataset contains features extracted from customers of a telecommunication company, which are classified as either churn or not.\n",
        "The categorical classification dataset contains chemical measurements for six distinct qualities of a Portuguese white wine.\n",
        "In the former dataset, the class is indicated in the final column named \"Churn\", whereas for the latter, target information is provided in the last column named \"quality.\"\n",
        "\n",
        "Please run the code block below to download the data files."
      ]
    },
    {
      "cell_type": "code",
      "execution_count": 1,
      "metadata": {
        "id": "SeQ4DrBq71mw",
        "colab": {
          "base_uri": "https://localhost:8080/"
        },
        "outputId": "1f7158bf-3f19-4c19-cd78-597a10156f97"
      },
      "outputs": [
        {
          "output_type": "stream",
          "name": "stdout",
          "text": [
            "Downloaded churn_data.zip successfully.\n",
            "Extracted churn_data.zip successfully.\n",
            "Downloaded winequality-red.csv successfully.\n"
          ]
        }
      ],
      "source": [
        "import os\n",
        "import zipfile\n",
        "import urllib.request\n",
        "\n",
        "# download the two dataset files\n",
        "dataset_files = {\n",
        "  \"churn_data.zip\": \"https://archive.ics.uci.edu/static/public/563/iranian+churn+dataset.zip\",\n",
        "  \"winequality-red.csv\": \"https://archive.ics.uci.edu/ml/machine-learning-databases/wine-quality/winequality-red.csv\"\n",
        "}\n",
        "for name, url in dataset_files.items():\n",
        "    # Skip downloading if the file already exists\n",
        "    if not os.path.exists(name):\n",
        "        # Download the file\n",
        "        urllib.request.urlretrieve(url, name)\n",
        "        print(f\"Downloaded {name} successfully.\")\n",
        "\n",
        "        # get the extention of file\n",
        "        base,extension = os.path.splitext(name)\n",
        "        if extension == \".zip\":\n",
        "            # Extract the zip file\n",
        "            with zipfile.ZipFile(name, 'r') as zip_ref:\n",
        "                zip_ref.extractall()\n",
        "            print(f\"Extracted {name} successfully.\")\n",
        "            # rename the file\n",
        "            os.rename(\"Customer Churn.csv\", base + \".csv\")"
      ]
    },
    {
      "cell_type": "markdown",
      "metadata": {
        "id": "Y2HrXd9f71mx"
      },
      "source": [
        "### Task 1: Dataset Loading\n",
        "\n",
        "The first task deals with the loading of the datasets.\n",
        "When training networks in PyTorch, all data needs to be stored as datatype ``torch.tensor``.\n",
        "The data should be split between input sets $\\mathbf X = [\\vec x^{[1]}, \\ldots, \\vec x^{[N]}]^T \\in \\mathbb R^{N\\times D}$ and targets.\n",
        "There is **no need to add a bias neuron to the input**, and the transposition of the data matrix is different from what we have seen before.\n",
        "\n",
        "For the targets, we have to be more careful as there are differences w.r.t. the applied loss function.\n",
        "For binary classification, we need $\\mathbf T = [[t^{[1]}, \\ldots, t^{[N]}]]$ to be in dimension $\\mathbb R^{N\\times1}$ and of type ``torch.float``.\n",
        "For categorical classification, we only need the class indexes $\\vec t = [t^{[1]}, \\ldots, t^{[N]}]$ to be in dimension $\\mathbb N^N$ and of type ``torch.long``.\n",
        "\n",
        "Implement a function that returns both the input and the target data for a given dataset\n",
        "\n",
        "Note:\n",
        "\n",
        "1. You can use `csv.reader()` to read the dataset, or rely on other methods such as `pandas`.\n",
        "2. Please note that in the wine dataset CSV file, all values are separated by `;`, whereas in the churn dataset, they are separated by `,`.\n",
        "3. For the wine dataset, subtract the target by `-3` to get the target values in range $\\{0, 1, 2, 3, 4, 5\\}$."
      ]
    },
    {
      "cell_type": "code",
      "execution_count": 2,
      "metadata": {
        "id": "C6jJEc7l71mx"
      },
      "outputs": [],
      "source": [
        "import torch\n",
        "import csv\n",
        "import pandas as pd\n",
        "\n",
        "def dataset(dataset_file=\"winequality-red.csv\",delimiter=\";\"):\n",
        "  # read dataset\n",
        "  data = []\n",
        "  with open(dataset_file, 'r') as f:\n",
        "    data = pd.read_csv(f, delimiter=delimiter)\n",
        "\n",
        "  print (f\"Loaded dataset with {len(data)} samples\")\n",
        "\n",
        "  # convert to torch.tensor\n",
        "  tensors = torch.tensor(data.values, dtype=torch.float32)\n",
        "\n",
        "  # get the input (data samples) without the target information\n",
        "  X = tensors[:,:-1]\n",
        "\n",
        "  if dataset_file == \"winequality-red.csv\":\n",
        "    # target is in the last column and needs to be converted to long\n",
        "    T = tensors[:,-1].long() - 3\n",
        "\n",
        "  else:\n",
        "\n",
        "      # target is in the last column and needs to be of type float\n",
        "      T = tensors[:,-1:].float()\n",
        "\n",
        "  return X, T"
      ]
    },
    {
      "cell_type": "markdown",
      "metadata": {
        "id": "L9-ZYDK271mx"
      },
      "source": [
        "### Test 1: Dataset Check\n",
        "\n",
        "Test 1 assures the correctness of the data and target dimensions.\n",
        "\n",
        "1. For the churn data, we assure that all dimensions are correct and that class labels are in range $\\{0, 1\\}$.\n",
        "\n",
        "2. For the wine dataset, we make sure that the dataset is in the correct dimensions, i.e., $\\mathbf X\\in \\mathbb R^{N\\times D}$ and $\\mathbf T \\in \\mathbb N^N$. And all class labels are in the correct range $[0, O-1]$ where $O$ is the number of classes."
      ]
    },
    {
      "cell_type": "code",
      "execution_count": 3,
      "metadata": {
        "id": "OOgnFUTl71mx",
        "colab": {
          "base_uri": "https://localhost:8080/"
        },
        "outputId": "b2ea4aa3-4793-4b5c-c7ad-89cd0a41925d"
      },
      "outputs": [
        {
          "output_type": "stream",
          "name": "stdout",
          "text": [
            "Loaded dataset with 3150 samples\n",
            "Loaded dataset with 1599 samples\n"
          ]
        }
      ],
      "source": [
        "X, T = dataset(\"churn_data.csv\",\",\")\n",
        "\n",
        "assert X.shape[1] == 13, X.shape[1]\n",
        "assert T.shape[1] == 1, T.shape[1]\n",
        "assert torch.all(T >= 0) and torch.all(T <= 1)\n",
        "assert T.dtype == torch.float\n",
        "\n",
        "X, T = dataset(\"winequality-red.csv\",\";\")\n",
        "\n",
        "assert X.shape[1] == 11, X.shape[1]\n",
        "assert torch.all(T >= 0) and torch.all(T <= 5)\n",
        "assert T.dtype == torch.long"
      ]
    },
    {
      "cell_type": "markdown",
      "metadata": {
        "id": "JEm-kZ7_71mx"
      },
      "source": [
        "### Task 2: Split Training and Validation Data\n",
        "\n",
        "The data should be split into 80% for training and 20% for validation. Implement a function that takes the full dataset $(X,T)$ and returns $(X_t, T_t, X_v, T_v)$ accordingly.\n",
        "\n",
        "Write a function that splits off training and validation samples from a given dataset. **What do we need to assure before splitting?**"
      ]
    },
    {
      "cell_type": "code",
      "execution_count": 4,
      "metadata": {
        "id": "SruiYgTE71my"
      },
      "outputs": [],
      "source": [
        "def split_training_data(X,T,train_percentage=0.8):\n",
        "\n",
        "  # split into 80/20 training/validation\n",
        "  split_index = int(train_percentage * X.shape[0])\n",
        "\n",
        "  X_train = X[:split_index]\n",
        "  T_train = T[:split_index]\n",
        "  X_val = X[split_index:]\n",
        "  T_val = T[split_index:]\n",
        "\n",
        "  return X_train, T_train, X_val, T_val"
      ]
    },
    {
      "cell_type": "markdown",
      "metadata": {
        "id": "4KbEqSsg71my"
      },
      "source": [
        "### Task 3: Input Data Standardization\n",
        "\n",
        "As we have seen last week, the standardization of the data provides many advantages.\n",
        "Hence, in this task you should write a function that takes $(X_t,X_v)$ as input and standardizes them by subtracting the mean and dividing by the\n",
        "standard deviation of $X_t$, and returning the standardized versions of both. Assure that each input dimension is standardized individually.\n",
        "\n",
        "Implement a function that standardizes all input data for the training and validation set.\n",
        "Return the standardized data."
      ]
    },
    {
      "cell_type": "markdown",
      "metadata": {
        "id": "MT9B0mln71my"
      },
      "source": [
        "Note:\n",
        "\n",
        "1. Use `torch.mean()` and `torch.std()` with the correct dimensions."
      ]
    },
    {
      "cell_type": "code",
      "execution_count": 5,
      "metadata": {
        "id": "ipDGkwj271mz"
      },
      "outputs": [],
      "source": [
        "def standardize(X_train, X_val):\n",
        "  # compute statistics\n",
        "  mean = X_train.mean(dim = 0)\n",
        "  std = X_train.std(dim = 0)\n",
        "\n",
        "  # standardize both X_train and X_val\n",
        "  X_train = (X_train - mean)/std\n",
        "  X_val = (X_val - mean)/std\n",
        "  return X_train, X_val"
      ]
    },
    {
      "cell_type": "markdown",
      "metadata": {
        "id": "cdsAbnEb71mz"
      },
      "source": [
        "## Network Implementation\n",
        "\n",
        "We will use a two-layer fully-connected network with $D$ input neurons, $K$ hidden neurons and $O$ output neurons.\n",
        "Depending on the task, $D$ and $O$ need to be selected appropriately, while $K$ is a parameter to play around with.\n",
        "In PyTorch, the easiest way to implement a network is by providing the requested sequence of layers to `torch.nn.Sequential`, which will build a network containing the given layers.\n",
        "We will use two `torch.nn.Linear` layers and one `torch.nn.Tanh` activation function in between.\n",
        "The network will return the logits $\\vec z$ for a given input $\\vec x$.\n",
        "\n",
        "\n",
        "### Task 4: Implement Network\n",
        "\n",
        "Implement a two-layer fully-connected network in PyTorch.\n",
        "The given network uses $\\tanh$ as activation function, and provide the possibility to change the number of inputs $D$, the number of hidden neurons $K$ and the number of outputs $O$."
      ]
    },
    {
      "cell_type": "code",
      "execution_count": 6,
      "metadata": {
        "id": "clv9xybv71mz"
      },
      "outputs": [],
      "source": [
        "import torch\n",
        "\n",
        "def Network(D, K, O):\n",
        "  return torch.nn.Sequential(\n",
        "    torch.nn.Linear(D, K),\n",
        "    torch.nn.Tanh(),\n",
        "    torch.nn.Linear(K,O),\n",
        "  )"
      ]
    },
    {
      "cell_type": "markdown",
      "metadata": {
        "id": "pZcc0wGL71mz"
      },
      "source": [
        "### Task 5: Accuracy Computation\n",
        "\n",
        "To monitor the training process, we want to compute the accuracy.\n",
        "The function will obtain the logits $\\vec z$ extracted from the network and the according target $t$.\n",
        "Assure that this function works both for binary and categorical classification.\n",
        "\n",
        "Note: you can make use of the following pytorch functions:\n",
        "\n",
        "1. `torch.mean()` which computes the mean or average of the input tensor.\n",
        "2. `torch.argmax()` which returns the indices of the maximum values of all elements of the tensor."
      ]
    },
    {
      "cell_type": "code",
      "execution_count": 7,
      "metadata": {
        "id": "DRXClTAa71mz"
      },
      "outputs": [],
      "source": [
        "def accuracy(Z, T):\n",
        "  # check if we have binary or categorical classification\n",
        "  if torch.all(T >= 0) and torch.all(T <= 1) and Z.shape[1] == 1:\n",
        "    # binary classification\n",
        "    threshold = 0.5\n",
        "    # Y = torch.sigmoid(Z)\n",
        "    predicted_binary = (Z >= threshold).float()\n",
        "\n",
        "    return (T == predicted_binary).float().mean()\n",
        "  else:\n",
        "    # categorical classification\n",
        "    predicted_cat =  torch.argmax(Z, axis=1)\n",
        "    return (T == predicted_cat).float().mean()"
      ]
    },
    {
      "cell_type": "markdown",
      "metadata": {
        "id": "DvlpETGF71mz"
      },
      "source": [
        "### Test 2: Test Accuracy Function\n",
        "\n",
        "Test 2 assures the correctness of your accuracy function in both binary and categorical cases. We make sure that the accuracy will compute the correct values."
      ]
    },
    {
      "cell_type": "code",
      "execution_count": 8,
      "metadata": {
        "id": "AjzAHfUr71mz"
      },
      "outputs": [],
      "source": [
        "# first, test binary classification\n",
        "ZZ = torch.ones((20,1)) * -5.\n",
        "ZZ[15:20] = 5\n",
        "assert(abs(accuracy(ZZ,torch.zeros((20,1))) - 0.75) < 1e-8)\n",
        "assert(abs(accuracy(ZZ,torch.ones((20,1))) - 0.25) < 1e-8)\n",
        "\n",
        "# now, test categorical classification with 4 classes\n",
        "ZZ = torch.ones((20,4)) * -5\n",
        "ZZ[0:1,0] = 5\n",
        "ZZ[1:4,1] = 5\n",
        "ZZ[4:10,2] = 5\n",
        "ZZ[10:20,3] = 5\n",
        "assert(abs(accuracy(ZZ,torch.zeros(20)) - 0.05) < 1e-8)\n",
        "assert(abs(accuracy(ZZ,torch.ones(20)) - 0.15) < 1e-8)\n",
        "assert(abs(accuracy(ZZ,torch.ones(20)*2) - 0.3) < 1e-8)\n",
        "assert(abs(accuracy(ZZ,torch.ones(20)*3) - 0.5) < 1e-8)\n",
        "assert(abs(accuracy(ZZ,torch.tensor((0,1,1,1,2,2,2,2,2,2,3,3,3,3,3,3,3,3,3,3))) - 1.) < 1e-8)"
      ]
    },
    {
      "cell_type": "markdown",
      "metadata": {
        "id": "23tHlQSU71mz"
      },
      "source": [
        "### Task 6: Training Loop\n",
        "\n",
        "Implement a function that takes all necessary parameters to run a training on a given dataset.\n",
        "In this week, we will run gradient descent, i.e., we will train on the whole dataset in each training step, so there is no need to define anything related to batches.\n",
        "Select the optimizer to be `torch.optim.SGD`.\n",
        "\n",
        "Implement a training loop over **10'000** epochs with a learning rate of **$\\eta=0.1$**.\n",
        "Make sure that you train on the training data only, and **not** on the validation data.\n",
        "In each loop, compute and store the training loss, training accuracy, validation loss and validation accuracy.\n",
        "At the end, return the lists of these values.\n",
        "\n",
        "Note:\n",
        "\n",
        "1. When storing accuracy or loss values in a list, make sure to convert the to float via `v.item()`."
      ]
    },
    {
      "cell_type": "code",
      "execution_count": 9,
      "metadata": {
        "id": "Vamjn-GO71mz"
      },
      "outputs": [],
      "source": [
        "from tqdm import tqdm\n",
        "\n",
        "def train(network, loss, X_train, T_train, X_val, T_val, epochs, flag, eta=0.1):\n",
        "  optimizer = torch.optim.SGD(params=network.parameters(), lr=eta)\n",
        "\n",
        "  # collect loss and accuracy values\n",
        "  train_loss, train_acc, val_loss, val_acc = [], [], [], []\n",
        "\n",
        "  for epoch in tqdm(range(epochs)):\n",
        "    # train on training set\n",
        "    optimizer.zero_grad()\n",
        "    # ... compute network output on training data\n",
        "    Z= network(X_train)\n",
        "    # ... compute loss from network output and target data\n",
        "    if flag == 1:\n",
        "      predicted = torch.sigmoid(Z)\n",
        "    else:\n",
        "      predicted = torch.softmax(Z, dim=1)\n",
        "    # print(predicted.shape, T_train.shape)\n",
        "    loss_train = loss(predicted, T_train)\n",
        "\n",
        "    # ... perform parameter update\n",
        "    loss_train.backward()\n",
        "    optimizer.step()\n",
        "\n",
        "    # ... remember loss\n",
        "    train_loss.append(loss_train.item())\n",
        "\n",
        "    # ... compute training set accuracy\n",
        "    train_acc.append(accuracy(Z,T_train))\n",
        "\n",
        "    # test on validation data\n",
        "    with torch.no_grad():\n",
        "      # ... compute network output on validation data\n",
        "      Z_val = network(X_val)\n",
        "\n",
        "      # ... compute loss from network output and target data\n",
        "      if flag == 1:\n",
        "        predicted_val = torch.sigmoid(Z_val)\n",
        "      else:\n",
        "        predicted_val = torch.softmax(Z_val, dim=1)\n",
        "      loss_val = loss(predicted_val, T_val)\n",
        "\n",
        "      # ... remember loss\n",
        "      val_loss.append(loss_val.item())\n",
        "      # ... compute validation set accuracy\n",
        "      val_acc.append(accuracy(Z_val, T_val))\n",
        "\n",
        "  # return the four lists of losses and accuracies\n",
        "  return train_loss, train_acc, val_loss, val_acc"
      ]
    },
    {
      "cell_type": "markdown",
      "metadata": {
        "id": "nWsFf7ud71m0"
      },
      "source": [
        "## Training and Evaluation\n",
        "\n",
        "Finally, we want to train our network on our data and plot the accuracy and loss values that were obtained through the epochs.\n",
        "Exemplary plots can be found in the exercise slides.\n",
        "\n",
        "\n",
        "### Task 7: Plotting Function\n",
        "\n",
        "Implement a function that takes four lists containing the training loss, the training accuracy, the validation loss and the validation accuracy and plot them into two plots.\n",
        "The first plot should contain the loss values for both training and validation. The second plot should contain the according accuracy values.\n",
        "\n",
        "Note:\n",
        "\n",
        "1. You might need to convert remaining `torch.tensor` values to `float`, lists, or `numpy.nadrray` for plotting."
      ]
    },
    {
      "cell_type": "code",
      "execution_count": 10,
      "metadata": {
        "id": "Mjpqaqaw71m0"
      },
      "outputs": [],
      "source": [
        "from matplotlib import pyplot\n",
        "def plot(train_loss, train_acc, val_loss, val_acc):\n",
        "  pyplot.figure(figsize=(10,3))\n",
        "  ax = pyplot.subplot(121)\n",
        "  ax.plot(train_loss, \"g-\", label=\"Training set loss\")\n",
        "  ax.plot(val_loss, \"b-\", label=\"Validation set loss\")\n",
        "  ax.legend()\n",
        "\n",
        "  ax = pyplot.subplot(122)\n",
        "  ax.plot(train_acc, \"g-\", label=\"Training set accuracy\")\n",
        "  ax.plot(val_acc, \"b-\", label=\"Validation set accuracy\")\n",
        "  ax.legend()"
      ]
    },
    {
      "cell_type": "markdown",
      "metadata": {
        "id": "fkQWdrpa71m0"
      },
      "source": [
        "### Task 8: Binary Classification\n",
        "\n",
        "\n",
        "1. Load the data for binary classification, using the ``\"churn_data.csv\"`` file.\n",
        "2. Split the data into training and validation sets.\n",
        "3. Standardize both training and validation input data using the function from Task 3.\n",
        "4. Instantiate a network with the correct number of input neurons, a reasonable number of $K$ hidden neurons and one output neuron.\n",
        "\n",
        "**Which loss function do we need for this task?**\n",
        "\n",
        "Train the network on the churn data with the learning rate of **$\\eta=0.1$** for 10'000 epochs and plot the training and validation accuracies and losses."
      ]
    },
    {
      "cell_type": "code",
      "execution_count": 11,
      "metadata": {
        "id": "rdM5B-ju71m0",
        "colab": {
          "base_uri": "https://localhost:8080/",
          "height": 326
        },
        "outputId": "b1fbab21-d8e4-4d57-e836-6008e2de3212"
      },
      "outputs": [
        {
          "output_type": "stream",
          "name": "stdout",
          "text": [
            "Loaded dataset with 3150 samples\n"
          ]
        },
        {
          "output_type": "stream",
          "name": "stderr",
          "text": [
            "100%|██████████| 10000/10000 [00:27<00:00, 363.68it/s]\n"
          ]
        },
        {
          "output_type": "display_data",
          "data": {
            "text/plain": [
              "<Figure size 1000x300 with 2 Axes>"
            ],
            "image/png": "[encoded data removed]"
          },
          "metadata": {}
        }
      ],
      "source": [
        "\n",
        "# define loss function\n",
        "loss = torch.nn.BCELoss()\n",
        "# load dataset\n",
        "X, T = dataset(\"churn_data.csv\",\",\")\n",
        "# split dataset\n",
        "X_train, T_train, X_val, T_val = split_training_data(X, T, 0.8)\n",
        "# standardize input data\n",
        "X_train, X_val = standardize(X_train, X_val)\n",
        "# initiate the network\n",
        "D=X_train.shape[1]\n",
        "K=20\n",
        "O=1\n",
        "network = Network(D, K, O)\n",
        "\n",
        "# train network on our data\n",
        "train_loss, train_acc, val_loss, val_acc = train(network, loss, X_train, T_train, X_val, T_val, 10000, 1, 0.1)\n",
        "\n",
        "# plot the results\n",
        "plot(train_loss, train_acc, val_loss, val_acc)"
      ]
    },
    {
      "cell_type": "markdown",
      "metadata": {
        "id": "XDUT7dlZ71m1"
      },
      "source": [
        "Considering accuracies exceeding 90%, do you think our evaluation might be flawed? If so, what aspects could we be neglecting?\n",
        "\n",
        "..."
      ]
    },
    {
      "cell_type": "markdown",
      "metadata": {
        "id": "b_msf_WR71m1"
      },
      "source": [
        "### Task 9: Categorical Classification\n",
        "\n",
        "1. Load the data for categorical classification, using the ``\"winequality-red.csv\"`` file.\n",
        "2. Split the data into training and validation sets.\n",
        "3. Standardize both training and validation input data using the function from Task 3.\n",
        "4. **How many input and output neurons do we need?** Change the number of input, hidden, and output neurons accordingly.\n",
        "4. Build a network with these params you decide.\n",
        "\n",
        "**Which loss function do we need this time?**\n",
        "\n",
        "Train the network on the wine data with the learning rate of **$\\eta=0.1$** for 10'000 epochs and plot the training and validation accuracies and losses."
      ]
    },
    {
      "cell_type": "code",
      "execution_count": 12,
      "metadata": {
        "id": "Tovx7u4R71m1",
        "colab": {
          "base_uri": "https://localhost:8080/",
          "height": 343
        },
        "outputId": "7659973c-1b53-4a22-aa82-6411fddb3af9"
      },
      "outputs": [
        {
          "output_type": "stream",
          "name": "stdout",
          "text": [
            "Loaded dataset with 1599 samples\n",
            "11\n"
          ]
        },
        {
          "output_type": "stream",
          "name": "stderr",
          "text": [
            "100%|██████████| 10000/10000 [00:35<00:00, 280.21it/s]\n"
          ]
        },
        {
          "output_type": "display_data",
          "data": {
            "text/plain": [
              "<Figure size 1000x300 with 2 Axes>"
            ],
            "image/png": "[encoded data removed]"
          },
          "metadata": {}
        }
      ],
      "source": [
        "# define loss function\n",
        "loss = torch.nn.CrossEntropyLoss()\n",
        "# load dataset\n",
        "X, T = dataset(\"winequality-red.csv\",\";\")\n",
        "# split dataset\n",
        "X_train, T_train, X_val, T_val = split_training_data(X, T, 0.8)\n",
        "# standardize input data\n",
        "print(X_train.shape[1])\n",
        "X_train, X_val = standardize(X_train, X_val)\n",
        "# instantiate network\n",
        "D=X_train.shape[1]\n",
        "K=60\n",
        "O=6\n",
        "network = Network(D, K, O)\n",
        "\n",
        "# train network on our data\n",
        "train_loss, train_acc, val_loss, val_acc = train(network, loss, X_train, T_train, X_val, T_val, 10000, 2, 0.1)\n",
        "\n",
        "# plot the results\n",
        "plot(train_loss, train_acc, val_loss, val_acc)"
      ]
    },
    {
      "cell_type": "markdown",
      "metadata": {
        "id": "Oy4-_sAG71m1"
      },
      "source": [
        "When reviewing the plots, do you identify any potential concerns? If so, what actions could be taken to mitigate?\n",
        "\n",
        "..."
      ]
    }
  ],
  "metadata": {
    "interpreter": {
      "hash": "2dd53f8ad749bca69f7250ce75eb4f0def59db5cf79075a9716322ffc58e8a2e"
    },
    "kernelspec": {
      "display_name": "Python 3.8.10 ('DL')",
      "language": "python",
      "name": "python3"
    },
    "language_info": {
      "codemirror_mode": {
        "name": "ipython",
        "version": 3
      },
      "file_extension": ".py",
      "mimetype": "text/x-python",
      "name": "python",
      "nbconvert_exporter": "python",
      "pygments_lexer": "ipython3",
      "version": "3.8.13"
    },
    "orig_nbformat": 4,
    "colab": {
      "provenance": []
    }
  },
  "nbformat": 4,
  "nbformat_minor": 0
}