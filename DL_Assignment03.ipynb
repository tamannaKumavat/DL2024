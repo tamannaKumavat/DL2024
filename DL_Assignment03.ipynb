{
  "cells": [
    {
      "cell_type": "markdown",
      "metadata": {
        "id": "LfqH7RYUTQPD"
      },
      "source": [
        "### Group Members:\n",
        "\n",
        "- Name, matriculation number\n",
        "- Name, matriculation number\n",
        "- Name, matriculation number"
      ]
    },
    {
      "cell_type": "markdown",
      "metadata": {
        "id": "jV9wM9aZTQPF"
      },
      "source": [
        "# Assignment 3: Universal Function Approximator\n",
        "\n",
        "\n",
        "The goal of this exercise is to train a two-layer fully-connected network to perform one-dimensional non-linear regression via gradient descent. To show the flexibility of the approach, three different functions will be approximated. First, the network and its gradient need to be implemented. Second, target data for three different functions will be generated. Finally, the training procedure will be applied to the data, and the resulting approximated function will be plotted together with the data samples.\n",
        "\n",
        "## Network Implementation\n",
        "\n",
        "A two-layer network is defined by parameters $\\Theta=(\\mathbf W^{(1)},\\vec w^{(2)})$ that are split into $\\mathbf W^{(1)}\\in\\mathbb R^{K\\times {(D+1)}}$ for the first layer and $\\vec w^{(2)}\\in\\mathbb R^{K+1}$ for the second layer. In our case, since we have only a single input, we have $D=1$.\n",
        "For a given input $\\vec x = (1, x)^T$, the network is implemented in three steps:\n",
        "\n",
        "1. Compute the first layer output, aka, the activation: $\\vec a_- = \\mathbf W^{(1)} \\vec x$\n",
        "2. Apply the activation function for each element of $\\vec a_- : \\vec h_- = g(\\vec a_-)$ and prepend the bias neuron $h_0=1$ to arrive at $\\vec h$.\n",
        "3. Compute the output of the network: $y = \\vec w^{(2)}\\ ^T\\vec h$.\n",
        "\n",
        "### Task 1  \n",
        "Implement a function that returns the network output for a given input $\\vec x$ and parameters $\\Theta=(\\mathbf W^{(1)}, \\vec w^{(2)})$. Remember that the input of the function $\\vec x = (1, x)^T$. Also remember to prepend $h_0=1$ in your implementation.\n",
        "\n",
        "We use sigmoid $(\\sigma)$ as the activation function:\n",
        "\n",
        "\\begin{equation*}\n",
        "    \\sigma(a) =  \\frac{\\mathrm{1} }{\\mathrm{1} + e^{-a} }\n",
        "\\end{equation*}\n",
        "\n",
        "Note:\n",
        "\n",
        "1. Use the `numpy` to implement the sigmoid function.\n",
        "2. Use `numpy.concatenate` or `numpy.insert` to prepend $h_0$.\n",
        "3. Make use of `numpy.dot` to compute matrix-vector and vector-vector products."
      ]
    },
    {
      "cell_type": "code",
      "execution_count": 12,
      "metadata": {
        "id": "ESV2wuc0TQPG"
      },
      "outputs": [],
      "source": [
        "import numpy\n",
        "import math\n",
        "\n",
        "def logistic(x):\n",
        "  return 1/ (1 + numpy.exp(-x))\n",
        "\n",
        "def network(x, Theta):\n",
        "  h0 = numpy.ones(1)\n",
        "  W1, w2 = Theta\n",
        "  a_ = numpy.dot(W1, x)\n",
        "  h_ = logistic(a_)\n",
        "  h = numpy.concatenate((h0, h_))\n",
        "\n",
        "  y = numpy.dot(w2.T, h)\n",
        "  return y, h"
      ]
    },
    {
      "cell_type": "markdown",
      "metadata": {
        "id": "_2pkPkVCTQPH"
      },
      "source": [
        "Test 1: Sanity Check\n",
        "----------------------------\n",
        "\n",
        "We select a specific number of hidden neurons and create the weights accordingly, using all zeros in the first layer and all ones in the second. The test case below assures that the function from Task 1 actually returns $11$ for those weights.\n",
        "\n",
        "Note: your function should pass the test below."
      ]
    },
    {
      "cell_type": "code",
      "execution_count": 13,
      "metadata": {
        "colab": {
          "base_uri": "https://localhost:8080/"
        },
        "id": "Npfk3auWTQPH",
        "outputId": "cf2b09e4-585e-4559-e704-fcab24dcf86a"
      },
      "outputs": [
        {
          "output_type": "stream",
          "name": "stdout",
          "text": [
            "Test passed\n"
          ]
        }
      ],
      "source": [
        "K = 20\n",
        "D = 1\n",
        "W1 = numpy.zeros((K, D+1))\n",
        "w2 = numpy.ones(K+1)\n",
        "x = numpy.random.rand(D+1)\n",
        "\n",
        "y, _ = network(x, (W1, w2))\n",
        "assert abs(11 - y) < 1e-6\n",
        "print(\"Test passed\")"
      ]
    },
    {
      "cell_type": "markdown",
      "metadata": {
        "id": "o9J6TeZKTQPI"
      },
      "source": [
        "## Gradient Implementation\n",
        "\n",
        "In order to perform gradient descent, we need to define a loss function. As provided in the lecture, the $\\mathcal J^{L_2}$ loss function is defined over a dataset $X=\\{(\\vec x^{[n]}, t^{[n]})\\}$, that is defined as a list of tuples, as follows:\n",
        "\n",
        "$$\n",
        "   \\mathcal J^{L_2} = \\frac{1}{N}\\sum_{i=1}^N (y^{[n]}-t^{[n]})^2\n",
        "$$\n",
        "\n",
        "where $y^{[n]}$ is the output of the network from Task 1 when inputting $\\vec x^{[n]}$. Interestingly, however, we never explicitly need to compute the output of the loss function. It is only used to analytically compute the gradient as shown in the lecture.\n",
        "\n",
        "The gradient is composed of two items, one for each layer. Particularly, for a given dataset $X$, the gradient of loss $J^{L_2}$ is defined as:\n",
        "\n",
        "\\begin{align}\n",
        "  \\frac{\\partial \\mathcal J}{\\partial w_{kd}^{(1)}} &= \\frac{2}{N} \\sum\\limits_{n=1}^N (y^{[n]}-t^{[n]}) w_{k}^{(2)} (1-h_{k}^{[n]}) h_{k}^{[n]} x_{d}^{[n]}\\\\\n",
        "  \\frac{\\partial \\mathcal J}{\\partial w_{k}^{(2)}} &= \\frac{2}{N} \\sum\\limits_{n=1}^N (y^{[n]}-t^{[n]}) h_{k}^{[n]}\n",
        "\\end{align}\n",
        "\n",
        "### Task 2\n",
        "Implement a function that returns the gradient as defined in $(1)$ and $(2)$ for a given dataset $X$, and given weights $\\Theta=(\\mathbf W^{(1)},\\vec w^{(2)})$. Make sure that both parts of the gradient are computed.\n",
        "\n",
        "Hint:\n",
        "\n",
        "1. Make use of the the function implemented in Task 1 where appropriate\n",
        "\n",
        "Note:\n",
        "\n",
        "  1. This is a slow implementation. We will see how to speed this up in the next lecture.\n",
        "  2. You can make use of `numpy.zeros` to initialize the gradient.\n",
        "  3. The outer product can be computed via `numpy.outer`.\n",
        "  4. Remember that we used the $logistic$ activation function in our network."
      ]
    },
    {
      "cell_type": "code",
      "execution_count": 14,
      "metadata": {
        "id": "D-KIk_R7TQPI"
      },
      "outputs": [],
      "source": [
        "def gradient(X, Theta):\n",
        "  # split parameters for easier handling\n",
        "  W1, w2 = Theta\n",
        "\n",
        "  # define gradient with respect to both parameters\n",
        "  dW1 = numpy.zeros((len(W1), len(X[0])))\n",
        "  dw2 = numpy.zeros((len(w2)))\n",
        "\n",
        "  g_dW1 = 0\n",
        "  g_dw2 = 0\n",
        "  loss_function = 0\n",
        "\n",
        "\n",
        "  # iterate over dataset\n",
        "  for x, t in X:\n",
        "    y, _  = network(x, Theta)\n",
        "    # compute the gradient\n",
        "    g_dW1 += numpy.outer(numpy.multiply((y-t)*w2,(1-_)*_) ,x)\n",
        "    g_dw2 += numpy.multiply((y-t),_)\n",
        "    loss_function += numpy.square(y-t)\n",
        "\n",
        "  dW1 = 2*g_dW1/len(X)\n",
        "  dw2 = 2*g_dw2/len(X)\n",
        "\n",
        "  # anything else?\n",
        "  loss_function = loss_function/len(X)\n",
        "\n",
        "  return dW1, dw2,loss_function"
      ]
    },
    {
      "cell_type": "markdown",
      "metadata": {
        "id": "qVie7QglTQPI"
      },
      "source": [
        "## Gradient Descent\n",
        "\n",
        "The procedure of gradient descent is the repeated application of two steps.\n",
        "\n",
        "1. The gradient of loss $\\nabla_{\\Theta}\\mathcal J^{L_2}$ is computed based on the current value of the parameters $\\Theta=(\\mathbf W^{(1)},\\vec w^{(2)})$.\n",
        "2. The weights are updated by moving a small step $\\eta$ into the direction of the negative gradient:\n",
        "\n",
        "$$\n",
        "    \\Theta = \\Theta - \\eta \\nabla_{\\Theta}\\mathcal J\n",
        "$$\n",
        "\n",
        "As stopping criterion, we select the number of training epochs to be 10000.\n",
        "\n",
        "### Task 3\n",
        "Implement a function that performs gradient descent for a given dataset $X$, given initial parameters $\\Theta$ and a given learning rate $\\eta$ and returns the optimized parameters $\\Theta^*$."
      ]
    },
    {
      "cell_type": "markdown",
      "source": [],
      "metadata": {
        "id": "lRY0PW7c9aFF"
      }
    },
    {
      "cell_type": "code",
      "execution_count": 15,
      "metadata": {
        "id": "yRC_PfjkTQPJ"
      },
      "outputs": [],
      "source": [
        "def gradient_descent(X, Theta, eta):\n",
        "  epochs = 10000\n",
        "  # perform iterative gradient descent\n",
        "  for epoch in range(epochs):\n",
        "    # compute the gradient\n",
        "    dW1, dw2, loss_function = gradient(X, Theta)\n",
        "\n",
        "    # update the parameters\n",
        "    W1, w2 = Theta\n",
        "    W1 = W1 - eta*dW1[1:]\n",
        "    w2 = w2 - eta*dw2\n",
        "    Theta = (W1,w2)\n",
        "\n",
        "  # return optimized parameters\n",
        "  return Theta,loss_function"
      ]
    },
    {
      "cell_type": "markdown",
      "metadata": {
        "id": "WAvU-5O0TQPJ"
      },
      "source": [
        "## Generate Datasets\n",
        "\n",
        "In total, we will test our gradient descent function with three different datasets. Particularly, we approximate:\n",
        "\n",
        "1. $X_1: t = \\sin(3x)$ for $x\\in[-1,1]$\n",
        "2. $X_2: t = e^{-4x^2}$ for $x\\in[-1,1]$\n",
        "3. $X_3: t = x^5 + 3x^4 - 6x^3 -12x^2 + 5x + 129$ for $x\\in[-4,2.5]$\n",
        "\n",
        "### Task 4\n",
        "\n",
        "Generate dataset $X_1$, for $N=60$ samples randomly drawn from range $x\\in[-1,1]$.\n",
        "Generate data $X_2$ for $N=50$ samples randomly drawn from range $x\\in[-1,1]$.\n",
        "Generate dataset $X_3$ for $N=200$ samples randomly drawn from range $x\\in[-4,2.5]$.\n",
        "Implement all three datasets as lists of tuples: $\\{(\\vec x^{[n]}, t^{[n]})\\mid 1\\leq n\\leq N\\}$.\n",
        "\n",
        "Note:\n",
        "\n",
        "  1. You can use `numpy.random.uniform` to create uniformly distributed samples for $x$.\n",
        "  2. Make sure that $\\vec x = (1, x)^T$ for each sample.\n",
        "  3. You can make use of `numpy.sin`, `numpy.exp` and `numpy.pow` to compute target values."
      ]
    },
    {
      "cell_type": "code",
      "execution_count": 16,
      "metadata": {
        "id": "P2bJujI2TQPK"
      },
      "outputs": [],
      "source": [
        "x1 = numpy.random.uniform(-1,1, size=(60,))\n",
        "X1_t= numpy.sin(3*x1)\n",
        "X1 = [([1,i],j) for i, j in zip(x1,X1_t)]\n",
        "# print(X1)\n",
        "\n",
        "x2 = numpy.random.uniform(-1,1,size=(50,))\n",
        "X2_t = numpy.exp(-4*numpy.square(x2))\n",
        "X2 = [([1,i],j) for i,j in zip(x2,X2_t)]\n",
        "\n",
        "x3 = numpy.random.uniform(-4,2.5, size=(200,))\n",
        "X3_t = numpy.power(x3,5) + 3*numpy.power(x3,4) - 6*numpy.power(x3,3) - 12*numpy.power(x3,2) + 5*x3 + 129 #x5+3x4−6x3−12x2+5x+129\n",
        "X3 = [([1,i],j) for i,j in zip(x3,X3_t)]"
      ]
    },
    {
      "cell_type": "markdown",
      "metadata": {
        "id": "9TdbiAmpTQPK"
      },
      "source": [
        "### Test 2: Sanity Check\n",
        "\n",
        "The test case below assures that the elements of each generated dataset are tuples with two elements, that the first element ($\\vec x$) is a vector with two numbers, and that the second element ($t$) is a float."
      ]
    },
    {
      "cell_type": "code",
      "execution_count": 17,
      "metadata": {
        "id": "TLSwP612TQPK",
        "colab": {
          "base_uri": "https://localhost:8080/"
        },
        "outputId": "4668c772-de78-4602-9a5c-1f48e8d1f52d"
      },
      "outputs": [
        {
          "output_type": "stream",
          "name": "stdout",
          "text": [
            "Test passed!\n"
          ]
        }
      ],
      "source": [
        "assert all(\n",
        "    isinstance(x, (tuple,list)) and\n",
        "    len(x) == 2 and\n",
        "    isinstance(x[0], (tuple,list,numpy.ndarray)) and\n",
        "    len(x[0]) == 2 and\n",
        "    isinstance(x[1], float)\n",
        "    for X in (X1, X2, X3)\n",
        "    for x in X\n",
        ")\n",
        "\n",
        "print('Test passed!')"
      ]
    },
    {
      "cell_type": "markdown",
      "metadata": {
        "id": "ENA1VuIHTQPL"
      },
      "source": [
        "## Function Approximation\n",
        "\n",
        "Finally, we want to make use of our gradient descent implementation to approximate our functions. In order to see our success, we want to plot the functions together with the data.\n",
        "\n",
        "### Task 5 (theoretical question)\n",
        "\n",
        "When looking at the example plots in the exercise slides (exemplary solutions for the plotting Task 8), how many hidden neurons $K$ do we need in order to approximate the functions? Is there any difference between the three target functions? **Please discuss it in the markdown cell below:**"
      ]
    },
    {
      "cell_type": "markdown",
      "metadata": {
        "id": "dks61EFuTQPL"
      },
      "source": [
        "..."
      ]
    },
    {
      "cell_type": "code",
      "execution_count": 18,
      "metadata": {
        "id": "kZ0ZRpg4TQPL"
      },
      "outputs": [],
      "source": [
        "# Define the number of neurons for each target function based on your discussion\n",
        "K1 = 5\n",
        "K2 = 2\n",
        "K3 = 10"
      ]
    },
    {
      "cell_type": "markdown",
      "metadata": {
        "id": "r90etLvgTQPM"
      },
      "source": [
        "### Task 6\n",
        "\n",
        "For each of the datasets, randomly initialize the parameters $\\Theta_1,\\Theta_2,\\Theta_3\\in[-1,1]$ according to the number of hidden neurons estimated in Task 5.\n",
        "\n",
        "Note:\n",
        "\n",
        "  1. You can use `numpy.random.uniform` to initialize the weights.\n",
        "  2. Make sure that the weight matrices are instantiated in the correct dimensions."
      ]
    },
    {
      "cell_type": "code",
      "execution_count": 19,
      "metadata": {
        "id": "YyGX4_U_TQPM"
      },
      "outputs": [],
      "source": [
        "Theta1 = (numpy.random.uniform(-1.0,1.0,(K1,2)),numpy.random.uniform(-1.0,1.0,(K1+1)))\n",
        "Theta2 = (numpy.random.uniform(-1.0,1.0,(K2,2)), numpy.random.uniform(-1.0,1.0,(K2+1)))\n",
        "Theta3 = (numpy.random.uniform(-1.0,1.0,(K3,2)), numpy.random.uniform(-1.0,1.0,(K3+1)))"
      ]
    },
    {
      "cell_type": "markdown",
      "metadata": {
        "id": "kQm2U6wyTQPM"
      },
      "source": [
        "### Task 7\n",
        "\n",
        "Call gradient descent function from Task 3 using the datasets $X_1, X_2, X_3$, the according created parameters $\\Theta_1,\\Theta_2,\\Theta_3$. Store the resulting optimized weights $\\Theta_1^*, \\Theta_2^*, \\Theta_3^*$ and the loss values.\n",
        "\n",
        "**Please discuss first the appropriate learning rate $\\eta$  for each of the three functions in the markdown cell below.** Based on your learning rates, you may neeed to optimize the learning rate $\\eta$ for these functions. Do you see any differences? What are the best learning rates that you can find?\n",
        "\n",
        "WARNING: Depending on the implementation, this might run for several minutes!"
      ]
    },
    {
      "cell_type": "markdown",
      "metadata": {
        "id": "TbPsx_hNTQPM"
      },
      "source": [
        "..."
      ]
    },
    {
      "cell_type": "code",
      "execution_count": 20,
      "metadata": {
        "id": "8amIa9RcTQPN",
        "colab": {
          "base_uri": "https://localhost:8080/"
        },
        "outputId": "b99e5739-01ab-4bb0-c756-974dd432d70b"
      },
      "outputs": [
        {
          "output_type": "stream",
          "name": "stdout",
          "text": [
            "0.003026222737554785\n",
            "0.002066069635981045\n",
            "18.263622838851564\n"
          ]
        }
      ],
      "source": [
        "# Call gradient descent function using the datasets and initial weights that you created above\n",
        "# Choose appropriate learning rates for each function\n",
        "Theta1_star,loss1 = gradient_descent(X1, Theta1, 0.3)\n",
        "print(loss1)\n",
        "Theta2_star,loss2 = gradient_descent(X2, Theta2, 0.1)\n",
        "print(loss2)\n",
        "# Theta3_star,loss3 = gradient_descent(X3, Theta3, 0.00001)\n",
        "# print(loss3)\n",
        "# Theta3_star,loss3 = gradient_descent(X3, Theta3, 0.0001)\n",
        "# print(loss3)\n",
        "Theta3_star,loss3 = gradient_descent(X3, Theta3, 7e-3)\n",
        "print(loss3)"
      ]
    },
    {
      "cell_type": "markdown",
      "metadata": {
        "id": "QzXoHBhKTQPN"
      },
      "source": [
        "## Data and Function Plotting\n",
        "\n",
        "### Task 8\n",
        "\n",
        "Implement a plotting function that takes a given dataset $X$, given parameters $\\Theta$ and a defined range $R=[min,max]$. Each data sample $(x^{[n]},t^{[n]})$ of the dataset is plotted as an $''x''$. In order to plot the function that is approximated by the network, generate sufficient equally-spaced input values $x\\in R$, compute the network output $y$ for these inputs, and plot them with a line.\n",
        "\n",
        "Note:\n",
        "\n",
        "  1. The dataset $X$ is defined as above, a list of tuples $(\\vec x, t)$.\n",
        "  2. Each input in the dataset is defined as $\\vec x = (1,x)^T$.\n",
        "  3. Equidistant points can be obtained via `numpy.arange`."
      ]
    },
    {
      "cell_type": "code",
      "execution_count": 21,
      "metadata": {
        "id": "Y46Vybc8TQPN"
      },
      "outputs": [],
      "source": [
        "from matplotlib import pyplot\n",
        "def plot(X, Theta, R):\n",
        "  # first, plot data samples\n",
        "  # print(X[0])\n",
        "  pyplot.plot([tup[0][1] for tup in X], [tup[1] for tup in X], \"rx\", label=\"Data\")\n",
        "\n",
        "  # define equidistant points from min (R[0]) to max (R[1]) to evaluate the network\n",
        "  x = numpy.arange(R[0], R[1], 0.1)\n",
        "  x1 =  [[1,i] for i in x]\n",
        "  # compute the network outputs for these values\n",
        "  y = []\n",
        "  for i in x1:\n",
        "      temp_y, _ = network(i, (Theta))\n",
        "      y.append(temp_y)\n",
        "  # plot network approximation\n",
        "  pyplot.plot(x,y,\"k-\", label=\"network\")\n",
        "  pyplot.legend()"
      ]
    },
    {
      "cell_type": "markdown",
      "metadata": {
        "id": "0tQq2o2NTQPO"
      },
      "source": [
        "### Task 9\n",
        "\n",
        "For each of the datasets and their according optimized parameters, call the plotting function from Task 8. Use range $R=[-1.5,1.5]$ for dataset $X_1$ and $X_2$, and range $R=[-5,4]$ for dataset $X_3$. Note that the first element of range $R$ should be the lowest $x$-location, and the second element of $R$ the highest value for $x$. Did the networks approximate the functions? What can we do if not?"
      ]
    },
    {
      "cell_type": "code",
      "execution_count": 22,
      "metadata": {
        "id": "ALP1zCZKTQPO",
        "colab": {
          "base_uri": "https://localhost:8080/",
          "height": 291
        },
        "outputId": "c014455e-982f-4783-b6c2-db2df15f916f"
      },
      "outputs": [
        {
          "output_type": "display_data",
          "data": {
            "text/plain": [
              "<Figure size 1000x300 with 3 Axes>"
            ],
            "image/png": "[encoded data removed]"
          },
          "metadata": {}
        }
      ],
      "source": [
        "figure = pyplot.figure(figsize=(10,3))\n",
        "\n",
        "# plot first function\n",
        "pyplot.subplot(131)\n",
        "plot(X1, Theta1_star, [-1.5,1.5])\n",
        "\n",
        "# plot second function\n",
        "pyplot.subplot(132)\n",
        "plot(X2, Theta2_star, [-1.5,1.5])\n",
        "\n",
        "# plot third function\n",
        "pyplot.subplot(133)\n",
        "plot(X3, Theta3_star, [-5,4])"
      ]
    }
  ],
  "metadata": {
    "interpreter": {
      "hash": "2dd53f8ad749bca69f7250ce75eb4f0def59db5cf79075a9716322ffc58e8a2e"
    },
    "kernelspec": {
      "display_name": "Python 3",
      "name": "python3"
    },
    "language_info": {
      "name": "python",
      "version": "3.8.13"
    },
    "orig_nbformat": 4,
    "colab": {
      "provenance": []
    }
  },
  "nbformat": 4,
  "nbformat_minor": 0
}